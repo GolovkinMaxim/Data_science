{
 "cells": [
  {
   "cell_type": "code",
   "execution_count": 1,
   "metadata": {
    "_cell_guid": "b1076dfc-b9ad-4769-8c92-a6c4dae69d19",
    "_uuid": "8f2839f25d086af736a60e9eeb907d3b93b6e0e5",
    "colab": {},
    "colab_type": "code",
    "id": "U2D2gTdJVp90"
   },
   "outputs": [],
   "source": [
    "import numpy as np\n",
    "import pandas as pd\n",
    "import seaborn as sns\n",
    "import matplotlib.pyplot as plt\n",
    "from collections import Counter\n",
    "import itertools"
   ]
  },
  {
   "cell_type": "code",
   "execution_count": 2,
   "metadata": {
    "_cell_guid": "79c7e3d0-c299-4dcb-8224-4455121ee9b0",
    "_uuid": "d629ff2d2480ee46fbb7e2d37f6b5fab8052498a",
    "colab": {},
    "colab_type": "code",
    "id": "oyGfxL3eVp9-"
   },
   "outputs": [
    {
     "data": {
      "text/html": [
       "<div>\n",
       "<style scoped>\n",
       "    .dataframe tbody tr th:only-of-type {\n",
       "        vertical-align: middle;\n",
       "    }\n",
       "\n",
       "    .dataframe tbody tr th {\n",
       "        vertical-align: top;\n",
       "    }\n",
       "\n",
       "    .dataframe thead th {\n",
       "        text-align: right;\n",
       "    }\n",
       "</style>\n",
       "<table border=\"1\" class=\"dataframe\">\n",
       "  <thead>\n",
       "    <tr style=\"text-align: right;\">\n",
       "      <th></th>\n",
       "      <th>imdb_id</th>\n",
       "      <th>budget</th>\n",
       "      <th>revenue</th>\n",
       "      <th>original_title</th>\n",
       "      <th>cast</th>\n",
       "      <th>director</th>\n",
       "      <th>tagline</th>\n",
       "      <th>overview</th>\n",
       "      <th>runtime</th>\n",
       "      <th>genres</th>\n",
       "      <th>production_companies</th>\n",
       "      <th>release_date</th>\n",
       "      <th>vote_average</th>\n",
       "      <th>release_year</th>\n",
       "    </tr>\n",
       "  </thead>\n",
       "  <tbody>\n",
       "    <tr>\n",
       "      <th>1414</th>\n",
       "      <td>tt0424774</td>\n",
       "      <td>50000000</td>\n",
       "      <td>69425966</td>\n",
       "      <td>The Adventures of Sharkboy and Lavagirl</td>\n",
       "      <td>Taylor Lautner|Taylor Dooley|Cayden Boyd|Georg...</td>\n",
       "      <td>Robert Rodriguez</td>\n",
       "      <td>Smaller heroes. Just as super.</td>\n",
       "      <td>Max conjures up his perfect dreamworld...the P...</td>\n",
       "      <td>92</td>\n",
       "      <td>Adventure|Fantasy|Action|Family</td>\n",
       "      <td>Columbia Pictures Corporation|Dimension Films</td>\n",
       "      <td>6/10/2005</td>\n",
       "      <td>4.3</td>\n",
       "      <td>2005</td>\n",
       "    </tr>\n",
       "    <tr>\n",
       "      <th>47</th>\n",
       "      <td>tt2719848</td>\n",
       "      <td>55000000</td>\n",
       "      <td>203427584</td>\n",
       "      <td>Everest</td>\n",
       "      <td>Jason Clarke|Jake Gyllenhaal|Josh Brolin|John ...</td>\n",
       "      <td>Baltasar KormÃ¡kur</td>\n",
       "      <td>The Storm Awaits.</td>\n",
       "      <td>Inspired by the incredible events surrounding ...</td>\n",
       "      <td>121</td>\n",
       "      <td>Adventure|Drama</td>\n",
       "      <td>Universal Pictures|Working Title Films|Walden ...</td>\n",
       "      <td>9/10/2015</td>\n",
       "      <td>6.7</td>\n",
       "      <td>2015</td>\n",
       "    </tr>\n",
       "    <tr>\n",
       "      <th>293</th>\n",
       "      <td>tt0881891</td>\n",
       "      <td>15000000</td>\n",
       "      <td>40105542</td>\n",
       "      <td>All About Steve</td>\n",
       "      <td>Sandra Bullock|Thomas Haden Church|Bradley Coo...</td>\n",
       "      <td>Phil Traill</td>\n",
       "      <td>A Comedy That Clings</td>\n",
       "      <td>After one short date, a brilliant crossword co...</td>\n",
       "      <td>99</td>\n",
       "      <td>Comedy</td>\n",
       "      <td>Dune Entertainment|Fox 2000 Pictures|Fortis Fi...</td>\n",
       "      <td>9/4/2009</td>\n",
       "      <td>4.6</td>\n",
       "      <td>2009</td>\n",
       "    </tr>\n",
       "    <tr>\n",
       "      <th>435</th>\n",
       "      <td>tt1179056</td>\n",
       "      <td>35000000</td>\n",
       "      <td>115664037</td>\n",
       "      <td>A Nightmare on Elm Street</td>\n",
       "      <td>Jackie Earle Haley|Katie Cassidy|Kyle Gallner|...</td>\n",
       "      <td>Samuel Bayer</td>\n",
       "      <td>Never Sleep Again.</td>\n",
       "      <td>The film that brings back horror icon Freddy K...</td>\n",
       "      <td>95</td>\n",
       "      <td>Horror|Mystery|Thriller</td>\n",
       "      <td>New Line Cinema|Platinum Dunes</td>\n",
       "      <td>4/30/2010</td>\n",
       "      <td>5.5</td>\n",
       "      <td>2010</td>\n",
       "    </tr>\n",
       "    <tr>\n",
       "      <th>1221</th>\n",
       "      <td>tt1817273</td>\n",
       "      <td>15000000</td>\n",
       "      <td>35485608</td>\n",
       "      <td>The Place Beyond the Pines</td>\n",
       "      <td>Ryan Gosling|Bradley Cooper|Eva Mendes|Dane De...</td>\n",
       "      <td>Derek Cianfrance</td>\n",
       "      <td>If you ride like lightning you're gonna crash ...</td>\n",
       "      <td>A motorcycle stunt rider considers committing ...</td>\n",
       "      <td>140</td>\n",
       "      <td>Drama|Crime</td>\n",
       "      <td>Sidney Kimmel Entertainment|Electric City Ente...</td>\n",
       "      <td>3/20/2013</td>\n",
       "      <td>6.7</td>\n",
       "      <td>2013</td>\n",
       "    </tr>\n",
       "  </tbody>\n",
       "</table>\n",
       "</div>"
      ],
      "text/plain": [
       "        imdb_id    budget    revenue                           original_title  \\\n",
       "1414  tt0424774  50000000   69425966  The Adventures of Sharkboy and Lavagirl   \n",
       "47    tt2719848  55000000  203427584                                  Everest   \n",
       "293   tt0881891  15000000   40105542                          All About Steve   \n",
       "435   tt1179056  35000000  115664037                A Nightmare on Elm Street   \n",
       "1221  tt1817273  15000000   35485608               The Place Beyond the Pines   \n",
       "\n",
       "                                                   cast            director  \\\n",
       "1414  Taylor Lautner|Taylor Dooley|Cayden Boyd|Georg...    Robert Rodriguez   \n",
       "47    Jason Clarke|Jake Gyllenhaal|Josh Brolin|John ...  Baltasar KormÃ¡kur   \n",
       "293   Sandra Bullock|Thomas Haden Church|Bradley Coo...         Phil Traill   \n",
       "435   Jackie Earle Haley|Katie Cassidy|Kyle Gallner|...        Samuel Bayer   \n",
       "1221  Ryan Gosling|Bradley Cooper|Eva Mendes|Dane De...    Derek Cianfrance   \n",
       "\n",
       "                                                tagline  \\\n",
       "1414                     Smaller heroes. Just as super.   \n",
       "47                                    The Storm Awaits.   \n",
       "293                                A Comedy That Clings   \n",
       "435                                  Never Sleep Again.   \n",
       "1221  If you ride like lightning you're gonna crash ...   \n",
       "\n",
       "                                               overview  runtime  \\\n",
       "1414  Max conjures up his perfect dreamworld...the P...       92   \n",
       "47    Inspired by the incredible events surrounding ...      121   \n",
       "293   After one short date, a brilliant crossword co...       99   \n",
       "435   The film that brings back horror icon Freddy K...       95   \n",
       "1221  A motorcycle stunt rider considers committing ...      140   \n",
       "\n",
       "                               genres  \\\n",
       "1414  Adventure|Fantasy|Action|Family   \n",
       "47                    Adventure|Drama   \n",
       "293                            Comedy   \n",
       "435           Horror|Mystery|Thriller   \n",
       "1221                      Drama|Crime   \n",
       "\n",
       "                                   production_companies release_date  \\\n",
       "1414      Columbia Pictures Corporation|Dimension Films    6/10/2005   \n",
       "47    Universal Pictures|Working Title Films|Walden ...    9/10/2015   \n",
       "293   Dune Entertainment|Fox 2000 Pictures|Fortis Fi...     9/4/2009   \n",
       "435                      New Line Cinema|Platinum Dunes    4/30/2010   \n",
       "1221  Sidney Kimmel Entertainment|Electric City Ente...    3/20/2013   \n",
       "\n",
       "      vote_average  release_year  \n",
       "1414           4.3          2005  \n",
       "47             6.7          2015  \n",
       "293            4.6          2009  \n",
       "435            5.5          2010  \n",
       "1221           6.7          2013  "
      ]
     },
     "execution_count": 2,
     "metadata": {},
     "output_type": "execute_result"
    }
   ],
   "source": [
    "data = pd.read_csv('movie_bd_v5.csv')\n",
    "data.sample(5)"
   ]
  },
  {
   "cell_type": "code",
   "execution_count": 3,
   "metadata": {
    "colab": {},
    "colab_type": "code",
    "id": "CoYUnagMVp-C"
   },
   "outputs": [
    {
     "data": {
      "text/html": [
       "<div>\n",
       "<style scoped>\n",
       "    .dataframe tbody tr th:only-of-type {\n",
       "        vertical-align: middle;\n",
       "    }\n",
       "\n",
       "    .dataframe tbody tr th {\n",
       "        vertical-align: top;\n",
       "    }\n",
       "\n",
       "    .dataframe thead th {\n",
       "        text-align: right;\n",
       "    }\n",
       "</style>\n",
       "<table border=\"1\" class=\"dataframe\">\n",
       "  <thead>\n",
       "    <tr style=\"text-align: right;\">\n",
       "      <th></th>\n",
       "      <th>budget</th>\n",
       "      <th>revenue</th>\n",
       "      <th>runtime</th>\n",
       "      <th>vote_average</th>\n",
       "      <th>release_year</th>\n",
       "    </tr>\n",
       "  </thead>\n",
       "  <tbody>\n",
       "    <tr>\n",
       "      <th>count</th>\n",
       "      <td>1.889000e+03</td>\n",
       "      <td>1.889000e+03</td>\n",
       "      <td>1889.000000</td>\n",
       "      <td>1889.000000</td>\n",
       "      <td>1889.000000</td>\n",
       "    </tr>\n",
       "    <tr>\n",
       "      <th>mean</th>\n",
       "      <td>5.431083e+07</td>\n",
       "      <td>1.553653e+08</td>\n",
       "      <td>109.658549</td>\n",
       "      <td>6.140762</td>\n",
       "      <td>2007.860773</td>\n",
       "    </tr>\n",
       "    <tr>\n",
       "      <th>std</th>\n",
       "      <td>4.858721e+07</td>\n",
       "      <td>2.146698e+08</td>\n",
       "      <td>18.017041</td>\n",
       "      <td>0.764763</td>\n",
       "      <td>4.468841</td>\n",
       "    </tr>\n",
       "    <tr>\n",
       "      <th>min</th>\n",
       "      <td>5.000000e+06</td>\n",
       "      <td>2.033165e+06</td>\n",
       "      <td>63.000000</td>\n",
       "      <td>3.300000</td>\n",
       "      <td>2000.000000</td>\n",
       "    </tr>\n",
       "    <tr>\n",
       "      <th>25%</th>\n",
       "      <td>2.000000e+07</td>\n",
       "      <td>3.456058e+07</td>\n",
       "      <td>97.000000</td>\n",
       "      <td>5.600000</td>\n",
       "      <td>2004.000000</td>\n",
       "    </tr>\n",
       "    <tr>\n",
       "      <th>50%</th>\n",
       "      <td>3.800000e+07</td>\n",
       "      <td>8.361541e+07</td>\n",
       "      <td>107.000000</td>\n",
       "      <td>6.100000</td>\n",
       "      <td>2008.000000</td>\n",
       "    </tr>\n",
       "    <tr>\n",
       "      <th>75%</th>\n",
       "      <td>7.200000e+07</td>\n",
       "      <td>1.782626e+08</td>\n",
       "      <td>120.000000</td>\n",
       "      <td>6.600000</td>\n",
       "      <td>2012.000000</td>\n",
       "    </tr>\n",
       "    <tr>\n",
       "      <th>max</th>\n",
       "      <td>3.800000e+08</td>\n",
       "      <td>2.781506e+09</td>\n",
       "      <td>214.000000</td>\n",
       "      <td>8.100000</td>\n",
       "      <td>2015.000000</td>\n",
       "    </tr>\n",
       "  </tbody>\n",
       "</table>\n",
       "</div>"
      ],
      "text/plain": [
       "             budget       revenue      runtime  vote_average  release_year\n",
       "count  1.889000e+03  1.889000e+03  1889.000000   1889.000000   1889.000000\n",
       "mean   5.431083e+07  1.553653e+08   109.658549      6.140762   2007.860773\n",
       "std    4.858721e+07  2.146698e+08    18.017041      0.764763      4.468841\n",
       "min    5.000000e+06  2.033165e+06    63.000000      3.300000   2000.000000\n",
       "25%    2.000000e+07  3.456058e+07    97.000000      5.600000   2004.000000\n",
       "50%    3.800000e+07  8.361541e+07   107.000000      6.100000   2008.000000\n",
       "75%    7.200000e+07  1.782626e+08   120.000000      6.600000   2012.000000\n",
       "max    3.800000e+08  2.781506e+09   214.000000      8.100000   2015.000000"
      ]
     },
     "execution_count": 3,
     "metadata": {},
     "output_type": "execute_result"
    }
   ],
   "source": [
    "data.describe()"
   ]
  },
  {
   "cell_type": "markdown",
   "metadata": {
    "colab_type": "text",
    "id": "DTIt7ezGVp-G"
   },
   "source": [
    "# Предобработка"
   ]
  },
  {
   "cell_type": "code",
   "execution_count": 4,
   "metadata": {
    "colab": {},
    "colab_type": "code",
    "id": "jNb40DwKVp-H"
   },
   "outputs": [],
   "source": [
    "answers = {} # создадим словарь для ответов\n",
    "\n",
    "# тут другие ваши предобработки колонок например:\n",
    "\n",
    "#the time given in the dataset is in string format.\n",
    "#So we need to change this in datetime format\n",
    "# ..."
   ]
  },
  {
   "cell_type": "markdown",
   "metadata": {
    "colab_type": "text",
    "id": "YxZaH-nPVp-L"
   },
   "source": [
    "# 1. У какого фильма из списка самый большой бюджет?"
   ]
  },
  {
   "cell_type": "markdown",
   "metadata": {
    "colab_type": "text",
    "id": "Nd-G5gX6Vp-M"
   },
   "source": [
    "Использовать варианты ответов в коде решения запрещено.    \n",
    "Вы думаете и в жизни у вас будут варианты ответов?)"
   ]
  },
  {
   "cell_type": "code",
   "execution_count": 5,
   "metadata": {
    "colab": {},
    "colab_type": "code",
    "id": "dZwb3m28Vp-S"
   },
   "outputs": [
    {
     "name": "stdout",
     "output_type": "stream",
     "text": [
      "                                  original_title    imdb_id\n",
      "723  Pirates of the Caribbean: On Stranger Tides  tt1298650\n"
     ]
    }
   ],
   "source": [
    "print(data[data.budget == data.budget.max()][['original_title', 'imdb_id']])"
   ]
  },
  {
   "cell_type": "code",
   "execution_count": 6,
   "metadata": {},
   "outputs": [],
   "source": [
    "answers['1'] = 'Pirates of the Caribbean: On Stranger Tides (tt1298650)'"
   ]
  },
  {
   "cell_type": "markdown",
   "metadata": {
    "colab_type": "text",
    "id": "FNRbbI3vVp-c"
   },
   "source": [
    "# 2. Какой из фильмов самый длительный (в минутах)?"
   ]
  },
  {
   "cell_type": "code",
   "execution_count": 7,
   "metadata": {
    "colab": {},
    "colab_type": "code",
    "id": "ot-VX2XrVp-g"
   },
   "outputs": [
    {
     "name": "stdout",
     "output_type": "stream",
     "text": [
      "         original_title    imdb_id\n",
      "1157  Gods and Generals  tt0279111\n"
     ]
    }
   ],
   "source": [
    "print(data[data.runtime == data.runtime.max()][['original_title', 'imdb_id']])"
   ]
  },
  {
   "cell_type": "code",
   "execution_count": 8,
   "metadata": {},
   "outputs": [],
   "source": [
    "answers['2'] = 'Gods and Generals (tt0279111)'"
   ]
  },
  {
   "cell_type": "markdown",
   "metadata": {
    "colab_type": "text",
    "id": "bapLlpW8Vp-k"
   },
   "source": [
    "# 3. Какой из фильмов самый короткий (в минутах)?\n",
    "\n",
    "\n",
    "\n"
   ]
  },
  {
   "cell_type": "code",
   "execution_count": 9,
   "metadata": {
    "colab": {},
    "colab_type": "code",
    "id": "YBxaSHuAVp-l"
   },
   "outputs": [
    {
     "name": "stdout",
     "output_type": "stream",
     "text": [
      "      original_title    imdb_id\n",
      "768  Winnie the Pooh  tt1449283\n"
     ]
    }
   ],
   "source": [
    "print(data[data.runtime == data.runtime.min()][['original_title', 'imdb_id']])"
   ]
  },
  {
   "cell_type": "code",
   "execution_count": 10,
   "metadata": {},
   "outputs": [],
   "source": [
    "answers['3'] = 'Winnie the Pooh (tt1449283)'"
   ]
  },
  {
   "cell_type": "markdown",
   "metadata": {
    "colab_type": "text",
    "id": "TfQbxbfNVp-p"
   },
   "source": [
    "# 4. Какова средняя длительность фильмов?\n"
   ]
  },
  {
   "cell_type": "code",
   "execution_count": 11,
   "metadata": {
    "colab": {},
    "colab_type": "code",
    "id": "5K6dKZYVVp-q"
   },
   "outputs": [
    {
     "name": "stdout",
     "output_type": "stream",
     "text": [
      "110\n"
     ]
    }
   ],
   "source": [
    "print(round(data.runtime.mean()))"
   ]
  },
  {
   "cell_type": "code",
   "execution_count": 12,
   "metadata": {},
   "outputs": [],
   "source": [
    "answers['4'] = '110'"
   ]
  },
  {
   "cell_type": "markdown",
   "metadata": {
    "colab_type": "text",
    "id": "r5TvbnT_Vp-u"
   },
   "source": [
    "# 5. Каково медианное значение длительности фильмов? "
   ]
  },
  {
   "cell_type": "code",
   "execution_count": 13,
   "metadata": {
    "colab": {},
    "colab_type": "code",
    "id": "iBROplKnVp-v"
   },
   "outputs": [
    {
     "name": "stdout",
     "output_type": "stream",
     "text": [
      "107\n"
     ]
    }
   ],
   "source": [
    "print(round(data.runtime.median()))"
   ]
  },
  {
   "cell_type": "code",
   "execution_count": 14,
   "metadata": {},
   "outputs": [],
   "source": [
    "answers['5'] = '107'"
   ]
  },
  {
   "cell_type": "markdown",
   "metadata": {
    "colab_type": "text",
    "id": "39P-deDSVp-y"
   },
   "source": [
    "# 6. Какой самый прибыльный фильм?\n",
    "#### Внимание! Здесь и далее под «прибылью» или «убытками» понимается разность между сборами и бюджетом фильма. (прибыль = сборы - бюджет) в нашем датасете это будет (profit = revenue - budget) "
   ]
  },
  {
   "cell_type": "code",
   "execution_count": 15,
   "metadata": {
    "colab": {},
    "colab_type": "code",
    "id": "UYZh4T9WVp-y"
   },
   "outputs": [],
   "source": [
    "data['profit'] = data['revenue'] - data['budget']"
   ]
  },
  {
   "cell_type": "code",
   "execution_count": 16,
   "metadata": {},
   "outputs": [
    {
     "name": "stdout",
     "output_type": "stream",
     "text": [
      "    original_title    imdb_id\n",
      "239         Avatar  tt0499549\n"
     ]
    }
   ],
   "source": [
    "print(data[data.profit == data.profit.max()][['original_title', 'imdb_id']])"
   ]
  },
  {
   "cell_type": "code",
   "execution_count": 17,
   "metadata": {},
   "outputs": [],
   "source": [
    "answers['6'] = 'Avatar (tt0499549)'"
   ]
  },
  {
   "cell_type": "markdown",
   "metadata": {
    "colab_type": "text",
    "id": "M99JmIX4Vp-2"
   },
   "source": [
    "# 7. Какой фильм самый убыточный? "
   ]
  },
  {
   "cell_type": "code",
   "execution_count": 18,
   "metadata": {
    "colab": {},
    "colab_type": "code",
    "id": "w-D2m4XPVp-3"
   },
   "outputs": [
    {
     "name": "stdout",
     "output_type": "stream",
     "text": [
      "       original_title    imdb_id\n",
      "1245  The Lone Ranger  tt1210819\n"
     ]
    }
   ],
   "source": [
    "print(data[data.profit == data.profit.min()][['original_title', 'imdb_id']])"
   ]
  },
  {
   "cell_type": "code",
   "execution_count": 19,
   "metadata": {},
   "outputs": [],
   "source": [
    "answers['7'] = 'The Lone Ranger (tt1210819)'"
   ]
  },
  {
   "cell_type": "markdown",
   "metadata": {
    "colab_type": "text",
    "id": "wEOM5ERVVp-6"
   },
   "source": [
    "# 8. У скольких фильмов из датасета объем сборов оказался выше бюджета?"
   ]
  },
  {
   "cell_type": "code",
   "execution_count": 20,
   "metadata": {
    "colab": {},
    "colab_type": "code",
    "id": "y00_7HD6Vp-7"
   },
   "outputs": [
    {
     "name": "stdout",
     "output_type": "stream",
     "text": [
      "1478\n"
     ]
    }
   ],
   "source": [
    "print(len(data[data.profit > 0]))"
   ]
  },
  {
   "cell_type": "code",
   "execution_count": 21,
   "metadata": {},
   "outputs": [],
   "source": [
    "answers['8'] = '1478'"
   ]
  },
  {
   "cell_type": "markdown",
   "metadata": {
    "colab_type": "text",
    "id": "xhpspA9KVp_A"
   },
   "source": [
    "# 9. Какой фильм оказался самым кассовым в 2008 году?"
   ]
  },
  {
   "cell_type": "code",
   "execution_count": 22,
   "metadata": {
    "colab": {},
    "colab_type": "code",
    "id": "MoUyQr9RVp_B"
   },
   "outputs": [
    {
     "name": "stdout",
     "output_type": "stream",
     "text": [
      "      original_title    imdb_id\n",
      "599  The Dark Knight  tt0468569\n"
     ]
    }
   ],
   "source": [
    "data08 = data[data.release_year == 2008] # dataframe со списком фильмов 2008 года\n",
    "print(data08[data08.profit == data08.profit.max()][['original_title', 'imdb_id']])"
   ]
  },
  {
   "cell_type": "code",
   "execution_count": 23,
   "metadata": {},
   "outputs": [],
   "source": [
    "answers['9'] = 'The Dark Knight (tt0468569)'"
   ]
  },
  {
   "cell_type": "markdown",
   "metadata": {
    "colab_type": "text",
    "id": "Zi4hDKidVp_F"
   },
   "source": [
    "# 10. Самый убыточный фильм за период с 2012 по 2014 г. (включительно)?\n"
   ]
  },
  {
   "cell_type": "code",
   "execution_count": 24,
   "metadata": {
    "colab": {},
    "colab_type": "code",
    "id": "XqyRmufJVp_F"
   },
   "outputs": [
    {
     "name": "stdout",
     "output_type": "stream",
     "text": [
      "       original_title    imdb_id\n",
      "1245  The Lone Ranger  tt1210819\n"
     ]
    }
   ],
   "source": [
    "data12_14 = data[(data.release_year >= 2012) & (data.release_year <= 2014)] # dataframe со списком фильмов с 2012 по 2014 г.\n",
    "print(data12_14[data12_14.profit == data12_14.profit.min()][['original_title', 'imdb_id']])"
   ]
  },
  {
   "cell_type": "code",
   "execution_count": 25,
   "metadata": {},
   "outputs": [],
   "source": [
    "answers['10'] = 'The Lone Ranger (tt1210819)'"
   ]
  },
  {
   "cell_type": "markdown",
   "metadata": {
    "colab_type": "text",
    "id": "EA7Sa9dkVp_I"
   },
   "source": [
    "# 11. Какого жанра фильмов больше всего?"
   ]
  },
  {
   "cell_type": "code",
   "execution_count": 26,
   "metadata": {
    "colab": {},
    "colab_type": "code",
    "id": "zsJAwJ8QVp_J"
   },
   "outputs": [
    {
     "name": "stdout",
     "output_type": "stream",
     "text": [
      "[('Drama', 782)]\n"
     ]
    }
   ],
   "source": [
    "'''Через слияния всех жанров в одну строку'''\n",
    "print(Counter(data.genres.str.cat(sep = '|').split('|')).most_common(1))"
   ]
  },
  {
   "cell_type": "markdown",
   "metadata": {},
   "source": [
    "Вариант 2"
   ]
  },
  {
   "cell_type": "code",
   "execution_count": 27,
   "metadata": {},
   "outputs": [
    {
     "name": "stdout",
     "output_type": "stream",
     "text": [
      "[('Drama', 782)]\n"
     ]
    }
   ],
   "source": [
    "'''Через explode по жанрам'''\n",
    "data2 = data.copy()\n",
    "data2['genres'] = data2['genres'].apply(lambda x: x.split('|'))\n",
    "data_genres = data2.explode('genres') # dataframe с деализацией до жанра\n",
    "print(Counter(data_genres.genres).most_common(1))"
   ]
  },
  {
   "cell_type": "code",
   "execution_count": 28,
   "metadata": {},
   "outputs": [],
   "source": [
    "answers['11'] = 'Drama 782'"
   ]
  },
  {
   "cell_type": "markdown",
   "metadata": {
    "colab_type": "text",
    "id": "T9_bPWpkVp_Q"
   },
   "source": [
    "# 12. Фильмы какого жанра чаще всего становятся прибыльными? "
   ]
  },
  {
   "cell_type": "code",
   "execution_count": 29,
   "metadata": {
    "colab": {},
    "colab_type": "code",
    "id": "Tmt8MaK1Vp_R"
   },
   "outputs": [
    {
     "name": "stdout",
     "output_type": "stream",
     "text": [
      "[('Drama', 560)]\n"
     ]
    }
   ],
   "source": [
    "data2 = data.copy()\n",
    "data2['genres'] = data2[data.profit > 0].genres.apply(lambda x: x.split('|'))\n",
    "data_genres = data2.explode('genres') # dataframe с деализацией до жанра\n",
    "print(Counter(data_genres.genres).most_common(1))"
   ]
  },
  {
   "cell_type": "code",
   "execution_count": 30,
   "metadata": {},
   "outputs": [],
   "source": [
    "answers['12'] = 'Drama 560'"
   ]
  },
  {
   "cell_type": "markdown",
   "metadata": {
    "colab_type": "text",
    "id": "0F23bgsDVp_U"
   },
   "source": [
    "# 13. У какого режиссера самые большие суммарные кассовые сбооры?"
   ]
  },
  {
   "cell_type": "code",
   "execution_count": 31,
   "metadata": {
    "colab": {},
    "colab_type": "code",
    "id": "K6Z3J8ygVp_X"
   },
   "outputs": [
    {
     "name": "stdout",
     "output_type": "stream",
     "text": [
      "director\n",
      "Peter Jackson    6490593685\n",
      "Name: revenue, dtype: int64\n"
     ]
    }
   ],
   "source": [
    "data2 = data.copy()\n",
    "data2['director'] = data2.director.apply(lambda x: x.split('|'))\n",
    "data_director = data2.explode('director') # dataframe с деализацией до режиссера\n",
    "print(data_director.groupby(['director']).revenue.sum().sort_values(ascending = False).head(1))"
   ]
  },
  {
   "cell_type": "code",
   "execution_count": 32,
   "metadata": {},
   "outputs": [],
   "source": [
    "answers['13'] = 'Peter Jackson'"
   ]
  },
  {
   "cell_type": "markdown",
   "metadata": {
    "colab_type": "text",
    "id": "PsYC9FgRVp_a"
   },
   "source": [
    "# 14. Какой режисер снял больше всего фильмов в стиле Action?"
   ]
  },
  {
   "cell_type": "code",
   "execution_count": 33,
   "metadata": {
    "colab": {},
    "colab_type": "code",
    "id": "wd2M-wHeVp_b"
   },
   "outputs": [],
   "source": [
    "data2 = data.copy()\n",
    "data2['genres'] = data2.genres.apply(lambda x: x.split('|'))\n",
    "data_genres = data2.explode('genres') # dataframe с деализацией до жанра\n",
    "data_genres['director'] = data_genres['director'].apply(lambda x: x.split('|'))\n",
    "data_gen_dir = data_genres[data_genres.genres == 'Action'].explode('director') # dataframe с деализацией до \"жанр - режиссер\""
   ]
  },
  {
   "cell_type": "code",
   "execution_count": 34,
   "metadata": {},
   "outputs": [
    {
     "name": "stdout",
     "output_type": "stream",
     "text": [
      "[('Robert Rodriguez', 9)]\n"
     ]
    }
   ],
   "source": [
    "print(Counter(data_gen_dir.director).most_common(1))"
   ]
  },
  {
   "cell_type": "code",
   "execution_count": 35,
   "metadata": {},
   "outputs": [],
   "source": [
    "answers['14'] = 'Robert Rodriguez'"
   ]
  },
  {
   "cell_type": "markdown",
   "metadata": {
    "colab_type": "text",
    "id": "PQ0KciD7Vp_f"
   },
   "source": [
    "# 15. Фильмы с каким актером принесли самые высокие кассовые сборы в 2012 году? "
   ]
  },
  {
   "cell_type": "code",
   "execution_count": 36,
   "metadata": {
    "colab": {},
    "colab_type": "code",
    "id": "aga62oeKVp_g"
   },
   "outputs": [
    {
     "name": "stdout",
     "output_type": "stream",
     "text": [
      "cast\n",
      "Chris Hemsworth    2027450773\n",
      "Name: revenue, dtype: int64\n"
     ]
    }
   ],
   "source": [
    "data2 = data.copy()\n",
    "data2['cast'] = data2.cast.apply(lambda x: x.split('|'))\n",
    "data_cast_12 = data2[data2.release_year == 2012].explode('cast') # dataframe с деализацией до актера по фильмам 2012 года\n",
    "print(data_cast_12.groupby(['cast']).revenue.sum().sort_values(ascending = False).head(1))"
   ]
  },
  {
   "cell_type": "code",
   "execution_count": 37,
   "metadata": {},
   "outputs": [],
   "source": [
    "answers['15'] = 'Chris Hemsworth'"
   ]
  },
  {
   "cell_type": "markdown",
   "metadata": {
    "colab_type": "text",
    "id": "mWHyyL7QVp_j"
   },
   "source": [
    "# 16. Какой актер снялся в большем количестве высокобюджетных фильмов?"
   ]
  },
  {
   "cell_type": "code",
   "execution_count": 38,
   "metadata": {
    "colab": {},
    "colab_type": "code",
    "id": "qQtmHKTFVp_k"
   },
   "outputs": [
    {
     "name": "stdout",
     "output_type": "stream",
     "text": [
      "[('Matt Damon', 18)]\n"
     ]
    }
   ],
   "source": [
    "data2 = data.copy()\n",
    "data2['cast'] = data2.cast.apply(lambda x: x.split('|'))\n",
    "data_cast = data2[data2.budget > data2.budget.mean()].explode('cast') # dataframe с деализацией до актера\n",
    "print(Counter(data_cast.cast).most_common(1))"
   ]
  },
  {
   "cell_type": "code",
   "execution_count": 39,
   "metadata": {},
   "outputs": [],
   "source": [
    "answers['16'] = 'Matt Damon'"
   ]
  },
  {
   "cell_type": "markdown",
   "metadata": {
    "colab_type": "text",
    "id": "NIh6AaW5Vp_n"
   },
   "source": [
    "# 17. В фильмах какого жанра больше всего снимался Nicolas Cage? "
   ]
  },
  {
   "cell_type": "code",
   "execution_count": 40,
   "metadata": {
    "colab": {},
    "colab_type": "code",
    "id": "H74SJDIBVp_n"
   },
   "outputs": [
    {
     "name": "stdout",
     "output_type": "stream",
     "text": [
      "[('Action', 17)]\n"
     ]
    }
   ],
   "source": [
    "data2 = data.copy()\n",
    "data2['genres'] = data2.genres.apply(lambda x: x.split('|'))\n",
    "data_genres = data2.explode('genres') # dataframe с деализацией до жанра\n",
    "data_genres['cast'] = data_genres['cast'].apply(lambda x: x.split('|'))\n",
    "data_gen_cast = data_genres.explode('cast') # dataframe с деализацией до \"жанр-актер\"\n",
    "print(Counter(data_gen_cast[data_gen_cast.cast == 'Nicolas Cage'].genres).most_common(1))"
   ]
  },
  {
   "cell_type": "code",
   "execution_count": 41,
   "metadata": {},
   "outputs": [],
   "source": [
    "answers['17'] = 'Action'"
   ]
  },
  {
   "cell_type": "markdown",
   "metadata": {
    "colab_type": "text",
    "id": "RqOmPRfWVp_q"
   },
   "source": [
    "# 18. Самый убыточный фильм от Paramount Pictures"
   ]
  },
  {
   "cell_type": "code",
   "execution_count": 42,
   "metadata": {
    "colab": {},
    "colab_type": "code",
    "id": "9E_B0Y96Vp_r"
   },
   "outputs": [
    {
     "name": "stdout",
     "output_type": "stream",
     "text": [
      "           original_title    imdb_id\n",
      "925  K-19: The Widowmaker  tt0267626\n"
     ]
    }
   ],
   "source": [
    "data2 = data.copy()\n",
    "data2['production_companies'] = data2.production_companies.apply(lambda x: x.split('|'))\n",
    "data_companies = data2.explode('production_companies') # dataframe с деализацией до компании\n",
    "data_paramount = data_companies[data_companies.production_companies == 'Paramount Pictures']\n",
    "print(data_paramount[data_paramount.profit == data_paramount.profit.min()][['original_title', 'imdb_id']])"
   ]
  },
  {
   "cell_type": "code",
   "execution_count": 43,
   "metadata": {},
   "outputs": [],
   "source": [
    "answers['18'] = 'K-19: The Widowmaker  tt0267626'"
   ]
  },
  {
   "cell_type": "markdown",
   "metadata": {
    "colab_type": "text",
    "id": "vS8Ur6ddVp_u"
   },
   "source": [
    "# 19. Какой год стал самым успешным по суммарным кассовым сборам?"
   ]
  },
  {
   "cell_type": "code",
   "execution_count": 44,
   "metadata": {
    "colab": {},
    "colab_type": "code",
    "id": "Dnbt4GdIVp_v"
   },
   "outputs": [
    {
     "name": "stdout",
     "output_type": "stream",
     "text": [
      "release_year\n",
      "2015    25449202382\n",
      "Name: revenue, dtype: int64\n"
     ]
    }
   ],
   "source": [
    "print(data.groupby(['release_year']).revenue.sum().sort_values(ascending = False).head(1))"
   ]
  },
  {
   "cell_type": "code",
   "execution_count": 45,
   "metadata": {},
   "outputs": [],
   "source": [
    "answers['19'] = '2015'"
   ]
  },
  {
   "cell_type": "markdown",
   "metadata": {
    "colab_type": "text",
    "id": "JAzJh4QAVp_z"
   },
   "source": [
    "# 20. Какой самый прибыльный год для студии Warner Bros?"
   ]
  },
  {
   "cell_type": "code",
   "execution_count": 46,
   "metadata": {
    "colab": {},
    "colab_type": "code",
    "id": "wgVu02DEVp_0"
   },
   "outputs": [
    {
     "name": "stdout",
     "output_type": "stream",
     "text": [
      "release_year\n",
      "2014    2295464519\n",
      "Name: profit, dtype: int64\n"
     ]
    }
   ],
   "source": [
    "data2 = data.copy()\n",
    "data_warner_bros = data2[data2.production_companies.str.contains('Warner Bros.')] # dataframe фильмов студии Warner Bros\n",
    "print(data_warner_bros.groupby(['release_year']).profit.sum().sort_values(ascending = False).head(1))"
   ]
  },
  {
   "cell_type": "code",
   "execution_count": 47,
   "metadata": {},
   "outputs": [],
   "source": [
    "answers['20'] = '2014'"
   ]
  },
  {
   "cell_type": "markdown",
   "metadata": {
    "colab_type": "text",
    "id": "8Im1S2HRVp_4"
   },
   "source": [
    "# 21. В каком месяце за все годы суммарно вышло больше всего фильмов?"
   ]
  },
  {
   "cell_type": "code",
   "execution_count": 48,
   "metadata": {
    "colab": {},
    "colab_type": "code",
    "id": "lev6TH7gVp_4"
   },
   "outputs": [
    {
     "name": "stdout",
     "output_type": "stream",
     "text": [
      "9    227\n",
      "Name: release_month, dtype: int64\n"
     ]
    }
   ],
   "source": [
    "data2 = data.copy()\n",
    "data2['release_month'] = data2.release_date.str.split(pat = '/', expand=True)[0]\n",
    "print(data2.release_month.value_counts().head(1))"
   ]
  },
  {
   "cell_type": "code",
   "execution_count": 49,
   "metadata": {},
   "outputs": [],
   "source": [
    "answers['21'] = 'Сентябрь'"
   ]
  },
  {
   "cell_type": "markdown",
   "metadata": {
    "colab_type": "text",
    "id": "uAJsZ_NeVp_7"
   },
   "source": [
    "# 22. Сколько суммарно вышло фильмов летом? (за июнь, июль, август)"
   ]
  },
  {
   "cell_type": "code",
   "execution_count": 50,
   "metadata": {
    "colab": {},
    "colab_type": "code",
    "id": "Aa-hEREoVp_8"
   },
   "outputs": [
    {
     "name": "stdout",
     "output_type": "stream",
     "text": [
      "450\n"
     ]
    }
   ],
   "source": [
    "data2 = data.copy()\n",
    "data2['release_month'] = data2.release_date.str.split(pat = '/', expand=True)[0]\n",
    "print(len(data2[(data2.release_month == '6') | (data2.release_month == '7') | (data2.release_month == '8')]))"
   ]
  },
  {
   "cell_type": "code",
   "execution_count": 51,
   "metadata": {},
   "outputs": [],
   "source": [
    "answers['22'] = '450'"
   ]
  },
  {
   "cell_type": "markdown",
   "metadata": {
    "colab_type": "text",
    "id": "G94ppOY1VqAA"
   },
   "source": [
    "# 23. Для какого режиссера зима – самое продуктивное время года? "
   ]
  },
  {
   "cell_type": "code",
   "execution_count": 52,
   "metadata": {
    "colab": {},
    "colab_type": "code",
    "id": "RhNTsamuVqAB"
   },
   "outputs": [
    {
     "name": "stdout",
     "output_type": "stream",
     "text": [
      "Peter Jackson    7\n",
      "Name: director, dtype: int64\n"
     ]
    }
   ],
   "source": [
    "data2 = data.copy()\n",
    "data2['release_month'] = data2.release_date.str.split(pat = '/', expand=True)[0] # столбец с месяцем выхода фильма\n",
    "data2['director'] = data2.director.apply(lambda x: x.split('|'))\n",
    "data_director = data2.explode('director') # dataframe с деализацией до режиссера\n",
    "print(data_director[(data_director.release_month == '12')\n",
    "                    | (data_director.release_month == '1') \n",
    "                    | (data_director.release_month == '2')].director.value_counts().head(1))"
   ]
  },
  {
   "cell_type": "code",
   "execution_count": 53,
   "metadata": {},
   "outputs": [],
   "source": [
    "answers['23'] = 'Peter Jackson'"
   ]
  },
  {
   "cell_type": "markdown",
   "metadata": {
    "colab_type": "text",
    "id": "RBo0JVjVVqAF"
   },
   "source": [
    "# 24. Какая студия дает самые длинные названия своим фильмам по количеству символов?"
   ]
  },
  {
   "cell_type": "code",
   "execution_count": 54,
   "metadata": {
    "colab": {},
    "colab_type": "code",
    "id": "QRGS8L0iVqAG"
   },
   "outputs": [
    {
     "name": "stdout",
     "output_type": "stream",
     "text": [
      "production_companies\n",
      "Four By Two Productions    83.0\n",
      "Name: original_title_len, dtype: float64\n"
     ]
    }
   ],
   "source": [
    "data2 = data.copy()\n",
    "data2['production_companies'] = data2.production_companies.apply(lambda x: x.split('|'))\n",
    "data_companies = data2.explode('production_companies') # dataframe с деализацией до компании\n",
    "data_companies['original_title_len'] = data_companies.original_title.str.len() # столбец с длиной названия\n",
    "print(data_companies.groupby(['production_companies']).original_title_len.mean().sort_values(ascending = False).head(1))"
   ]
  },
  {
   "cell_type": "code",
   "execution_count": 55,
   "metadata": {},
   "outputs": [],
   "source": [
    "answers['24'] = 'Four By Two Productions'"
   ]
  },
  {
   "cell_type": "markdown",
   "metadata": {
    "colab_type": "text",
    "id": "9G0hbvR7VqAK"
   },
   "source": [
    "# 25. Описание фильмов какой студии в среднем самые длинные по количеству слов?"
   ]
  },
  {
   "cell_type": "code",
   "execution_count": 56,
   "metadata": {
    "colab": {},
    "colab_type": "code",
    "id": "Ge2GsLNxVqAK"
   },
   "outputs": [
    {
     "name": "stdout",
     "output_type": "stream",
     "text": [
      "production_companies\n",
      "Midnight Picture Show    175.0\n",
      "Name: overview_words, dtype: float64\n"
     ]
    }
   ],
   "source": [
    "data2 = data.copy()\n",
    "data2['production_companies'] = data2.production_companies.apply(lambda x: x.split('|'))\n",
    "data_companies = data2.explode('production_companies') # dataframe с деализацией до компании\n",
    "data_companies['overview_words'] = data_companies['overview'].str.split(' ').apply(lambda x: len(x)) # столбец с числом слов в описании\n",
    "print(data_companies.groupby(['production_companies']).overview_words.mean().sort_values(ascending = False).head(1))"
   ]
  },
  {
   "cell_type": "code",
   "execution_count": 57,
   "metadata": {},
   "outputs": [],
   "source": [
    "answers['25'] = 'Midnight Picture Show'"
   ]
  },
  {
   "cell_type": "markdown",
   "metadata": {
    "colab_type": "text",
    "id": "FJ1AFt90VqAP"
   },
   "source": [
    "# 26. Какие фильмы входят в 1 процент лучших по рейтингу? \n",
    "по vote_average"
   ]
  },
  {
   "cell_type": "code",
   "execution_count": 58,
   "metadata": {
    "colab": {},
    "colab_type": "code",
    "id": "8qmJVq4CVqAQ"
   },
   "outputs": [
    {
     "name": "stdout",
     "output_type": "stream",
     "text": [
      "599                                   The Dark Knight\n",
      "118                                      Interstellar\n",
      "125                                The Imitation Game\n",
      "9                                          Inside Out\n",
      "34                                               Room\n",
      "1183                          The Wolf of Wall Street\n",
      "128                                         Gone Girl\n",
      "1191                                 12 Years a Slave\n",
      "119                           Guardians of the Galaxy\n",
      "1081    The Lord of the Rings: The Return of the King\n",
      "1800                                          Memento\n",
      "370                                         Inception\n",
      "872                                       The Pianist\n",
      "138                          The Grand Budapest Hotel\n",
      "1188                                              Her\n",
      "28                                          Spotlight\n",
      "124                                        Big Hero 6\n",
      "177                            The Fault in Our Stars\n",
      "Name: original_title, dtype: object\n"
     ]
    }
   ],
   "source": [
    "print(data.sort_values(by = ['vote_average'], ascending = False)[:int(len(data)*0.01)].original_title)"
   ]
  },
  {
   "cell_type": "code",
   "execution_count": 59,
   "metadata": {},
   "outputs": [],
   "source": [
    "answers['26'] = 'Inside Out, The Dark Knight, 12 Years a Slave' # Выбраны из списка согласно ответу в викторине"
   ]
  },
  {
   "cell_type": "markdown",
   "metadata": {
    "colab_type": "text",
    "id": "MdXsUXbCVqAV"
   },
   "source": [
    "# 27. Какие актеры чаще всего снимаются в одном фильме вместе?\n"
   ]
  },
  {
   "cell_type": "code",
   "execution_count": 60,
   "metadata": {},
   "outputs": [
    {
     "name": "stdout",
     "output_type": "stream",
     "text": [
      "[(('Daniel Radcliffe', 'Rupert Grint'), 8)]\n"
     ]
    }
   ],
   "source": [
    "data2 = data.copy()\n",
    "data2['cast'] = data2.cast.apply(lambda x: x.split('|'))\n",
    "data2['pairs'] = data2['cast'].apply(lambda x: list(itertools.combinations(x, 2)))\n",
    "data_pair_cast = data2.explode('pairs') # dataframe с деализацией до \"пары актеров\"\n",
    "print(Counter(data_pair_cast.pairs).most_common(1))"
   ]
  },
  {
   "cell_type": "code",
   "execution_count": 61,
   "metadata": {},
   "outputs": [],
   "source": [
    "answers['27'] = 'Daniel Radcliffe & Rupert Grint'"
   ]
  },
  {
   "cell_type": "markdown",
   "metadata": {
    "colab_type": "text",
    "id": "U0nONFnGVqAX"
   },
   "source": [
    "# Submission"
   ]
  },
  {
   "cell_type": "code",
   "execution_count": 62,
   "metadata": {
    "colab": {},
    "colab_type": "code",
    "id": "IfcaRO9-VqAX",
    "outputId": "0f132912-32bb-4196-c98c-abfbc4ad5a5f"
   },
   "outputs": [
    {
     "data": {
      "text/plain": [
       "{'1': 'Pirates of the Caribbean: On Stranger Tides (tt1298650)',\n",
       " '2': 'Gods and Generals (tt0279111)',\n",
       " '3': 'Winnie the Pooh (tt1449283)',\n",
       " '4': '110',\n",
       " '5': '107',\n",
       " '6': 'Avatar (tt0499549)',\n",
       " '7': 'The Lone Ranger (tt1210819)',\n",
       " '8': '1478',\n",
       " '9': 'The Dark Knight (tt0468569)',\n",
       " '10': 'The Lone Ranger (tt1210819)',\n",
       " '11': 'Drama 782',\n",
       " '12': 'Drama 560',\n",
       " '13': 'Peter Jackson',\n",
       " '14': 'Robert Rodriguez',\n",
       " '15': 'Chris Hemsworth',\n",
       " '16': 'Matt Damon',\n",
       " '17': 'Action',\n",
       " '18': 'K-19: The Widowmaker  tt0267626',\n",
       " '19': '2015',\n",
       " '20': '2014',\n",
       " '21': 'Сентябрь',\n",
       " '22': '450',\n",
       " '23': 'Peter Jackson',\n",
       " '24': 'Four By Two Productions',\n",
       " '25': 'Midnight Picture Show',\n",
       " '26': 'Inside Out, The Dark Knight, 12 Years a Slave',\n",
       " '27': 'Daniel Radcliffe & Rupert Grint'}"
      ]
     },
     "execution_count": 62,
     "metadata": {},
     "output_type": "execute_result"
    }
   ],
   "source": [
    "# в конце можно посмотреть свои ответы к каждому вопросу\n",
    "answers"
   ]
  },
  {
   "cell_type": "code",
   "execution_count": 63,
   "metadata": {
    "colab": {},
    "colab_type": "code",
    "id": "SiRmHPl8VqAd"
   },
   "outputs": [
    {
     "data": {
      "text/plain": [
       "27"
      ]
     },
     "execution_count": 63,
     "metadata": {},
     "output_type": "execute_result"
    }
   ],
   "source": [
    "# и убедиться что ни чего не пропустил)\n",
    "len(answers)"
   ]
  }
 ],
 "metadata": {
  "colab": {
   "name": "Copy of [SF-DST] Movies IMBD v4.1 TEMPLATE.ipynb",
   "provenance": []
  },
  "kernelspec": {
   "display_name": "Python 3",
   "language": "python",
   "name": "python3"
  },
  "language_info": {
   "codemirror_mode": {
    "name": "ipython",
    "version": 3
   },
   "file_extension": ".py",
   "mimetype": "text/x-python",
   "name": "python",
   "nbconvert_exporter": "python",
   "pygments_lexer": "ipython3",
   "version": "3.7.6"
  }
 },
 "nbformat": 4,
 "nbformat_minor": 1
}
