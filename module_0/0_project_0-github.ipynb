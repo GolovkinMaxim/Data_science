{
 "cells": [
  {
   "cell_type": "code",
   "execution_count": 1,
   "metadata": {},
   "outputs": [],
   "source": [
    "import numpy as np"
   ]
  },
  {
   "cell_type": "code",
   "execution_count": 2,
   "metadata": {},
   "outputs": [],
   "source": [
    "def game_core(number):\n",
    "    '''Функция производит поиск числа путем сравнения предсказанного числа с зададанным. \n",
    "    В случае, если предсказанное число меньше загаданного, данное число увеличивается на заданный шаг.\n",
    "    Иначе, предсказанное число уменьшается на заданный шаг. После каждой попытки шаг уменьшается в \n",
    "    2 раза до момента становления равным 1.'''\n",
    "    predict = 50 # начальное предполагаемое число\n",
    "    step = 25 # начальный шаг\n",
    "    count = 1 # счетчик попыток\n",
    "    while number != predict:\n",
    "        count += 1\n",
    "        if number > predict: \n",
    "            predict += step # увеличение предсказанного числа на заданный шаг\n",
    "        elif number < predict: \n",
    "            predict -= step # уменьшение предсказанного числа на заданный шаг\n",
    "        if step > 1: # пока шаг не стал равным 1\n",
    "            step //= 2\n",
    "    return count # выход из цикла, если угадали\n",
    "\n",
    "\n",
    "def score_game(game_core):\n",
    "    '''Запускаем игру 1000 раз, чтобы узнать, как быстро игра угадывает число'''\n",
    "    count_ls = [] # список количества попыток на каждом запуске\n",
    "    np.random.seed(42)  # фиксируем RANDOM SEED\n",
    "    random_array = np.random.randint(1,101, size=(1000)) # массив загаданных чисел\n",
    "    for number in random_array:\n",
    "        count_ls.append(game_core(number)) \n",
    "    score = int(round(np.mean(count_ls))) # округление среднего числа попыток\n",
    "    print(f'Ваш алгоритм угадывает число в среднем за {score} попыток')\n",
    "\n"
   ]
  },
  {
   "cell_type": "code",
   "execution_count": 3,
   "metadata": {},
   "outputs": [
    {
     "name": "stdout",
     "output_type": "stream",
     "text": [
      "Ваш алгоритм угадывает число в среднем за 6 попыток\n"
     ]
    }
   ],
   "source": [
    "# Запуск\n",
    "score_game(game_core)"
   ]
  }
 ],
 "metadata": {
  "kernelspec": {
   "display_name": "Python 3",
   "language": "python",
   "name": "python3"
  },
  "language_info": {
   "codemirror_mode": {
    "name": "ipython",
    "version": 3
   },
   "file_extension": ".py",
   "mimetype": "text/x-python",
   "name": "python",
   "nbconvert_exporter": "python",
   "pygments_lexer": "ipython3",
   "version": "3.7.6"
  }
 },
 "nbformat": 4,
 "nbformat_minor": 4
}
